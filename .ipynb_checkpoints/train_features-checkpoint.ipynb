{
 "cells": [
  {
   "cell_type": "code",
   "execution_count": 2,
   "id": "e5f0322c-3692-4d34-8ae6-ad9f12a228c2",
   "metadata": {},
   "outputs": [],
   "source": [
    "# so starrting off, we are gonna check how the data is stored\n",
    "# we have 22x10 sized feature vector of all the training sample's e's and so lets say that there are 50 e's, \n",
    "# so there are 50 22x10 vectors supposed to be stored \n",
    "\n",
    "# tho we ahve stored only 10 e's, we can store more obviously, this will help with wrong e's as well\n",
    "\n",
    "# now, we will unpickle the e vectors, store each column "
   ]
  },
  {
   "cell_type": "code",
   "execution_count": 3,
   "id": "06dedfb5-1dbb-4648-b7af-0e84a1eb52ba",
   "metadata": {},
   "outputs": [
    {
     "name": "stdout",
     "output_type": "stream",
     "text": [
      "CSV files saved successfully.\n"
     ]
    }
   ],
   "source": [
    "import pickle\n",
    "import numpy as np\n",
    "import pandas as pd\n",
    "import os\n",
    "\n",
    "# Folder paths where your pickle files are stored\n",
    "folder_paths = ['saved_e/1/ef', 'saved_e/2/ef', 'saved_e/3/ef', 'saved_e/4/ef']\n",
    "output_folder = 'dist_csvs' \n",
    "\n",
    "# List to hold the 10 columns' data\n",
    "columns_data = {i: [] for i in range(10)}  # For 10 columns, index 0 to 9\n",
    "\n",
    "# Iterate over each folder\n",
    "for folder_path in folder_paths:\n",
    "    pickle_file_paths = [os.path.join(folder_path, file) for file in os.listdir(folder_path) if file.endswith('.pkl')]\n",
    "\n",
    "    # Iterate over each pickle file in the current folder\n",
    "    for file_path in pickle_file_paths:\n",
    "        with open(file_path, 'rb') as f:\n",
    "            array = pickle.load(f)\n",
    "            for col in range(10):  # Assuming arrays have 10 columns\n",
    "                columns_data[col].append(array[:, col])\n",
    "\n",
    "# Now, columns_data holds 10 lists of arrays, each of shape (150,)\n",
    "# Convert each list of column values into a 150xN matrix (where N = 150)\n",
    "for col, data in columns_data.items():\n",
    "    # Stack the data vertically to get a (150, 150) matrix for each column\n",
    "    column_matrix = np.column_stack(data)\n",
    "    \n",
    "    # Transpose the matrix to make it (150, 10)\n",
    "    column_matrix = column_matrix.T  # Now it's of shape (10, 150)\n",
    "    \n",
    "    # Convert it to a pandas DataFrame for easier CSV export\n",
    "    df = pd.DataFrame(column_matrix)\n",
    "    \n",
    "    # Save to CSV, name the file based on the column index\n",
    "    # df.to_csv(f'column_{col+1}.csv', index=False, header=False)\n",
    "    df.to_csv(os.path.join(output_folder, f'column_{col+1}.csv'), index=False, header=False)\n",
    "\n",
    "print(\"All CSV files saved successfully.\")\n"
   ]
  },
  {
   "cell_type": "code",
   "execution_count": 4,
   "id": "7dbccaa2-4748-4286-a417-9208426ae160",
   "metadata": {},
   "outputs": [
    {
     "name": "stdout",
     "output_type": "stream",
     "text": [
      "CSV file 'output.csv' has been created.\n"
     ]
    }
   ],
   "source": [
    "# to make the class wala csv\n",
    "\n",
    "import pandas as pd\n",
    "\n",
    "# Create the list of values\n",
    "values = ['A'] * 50 + ['B'] * 50 + ['C'] * 50 + ['D'] * 50\n",
    "\n",
    "# Convert the list into a pandas DataFrame\n",
    "df = pd.DataFrame(values, columns=['Column1'])\n",
    "\n",
    "# Save the DataFrame to a CSV file\n",
    "df.to_csv('class_label.csv', index=False)\n",
    "\n",
    "print(\"CSV file 'output.csv' has been created.\")\n"
   ]
  },
  {
   "cell_type": "code",
   "execution_count": null,
   "id": "f5ed2bc4-c1c5-4d22-987d-728ac5b686f3",
   "metadata": {},
   "outputs": [],
   "source": []
  }
 ],
 "metadata": {
  "kernelspec": {
   "display_name": "Python 3 (ipykernel)",
   "language": "python",
   "name": "python3"
  },
  "language_info": {
   "codemirror_mode": {
    "name": "ipython",
    "version": 3
   },
   "file_extension": ".py",
   "mimetype": "text/x-python",
   "name": "python",
   "nbconvert_exporter": "python",
   "pygments_lexer": "ipython3",
   "version": "3.10.16"
  }
 },
 "nbformat": 4,
 "nbformat_minor": 5
}
