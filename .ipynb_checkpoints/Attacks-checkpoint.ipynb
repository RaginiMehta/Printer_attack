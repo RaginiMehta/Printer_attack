{
 "cells": [
  {
   "cell_type": "markdown",
   "id": "c25be1b5-1ea4-4a3c-9143-2a931e7e44c9",
   "metadata": {},
   "source": [
    "The 4 attacks defined in the paper are:\n",
    "1. fixed amplitude fixed frequency sinusoidal signal\n",
    "2. binarized version of the first\n",
    "3. frequency hopping sinusoidal signal\n",
    "4. binarized version of third\n",
    "5. adding a gausian noise"
   ]
  },
  {
   "cell_type": "code",
   "execution_count": 1,
   "id": "60a589e5-f7e8-4d99-b4b8-4fc7c2d27d28",
   "metadata": {},
   "outputs": [
    {
     "name": "stdout",
     "output_type": "stream",
     "text": [
      "/home/khushi/TESTING DOC_CV_page-0001.jpg\n"
     ]
    }
   ],
   "source": [
    "import os\n",
    "print(os.path.abspath(\"TESTING DOC_CV_page-0001.jpg\"))\n"
   ]
  },
  {
   "cell_type": "code",
   "execution_count": 6,
   "id": "55bcca60-01f0-4c54-afaa-041901eceb24",
   "metadata": {},
   "outputs": [
    {
     "name": "stdout",
     "output_type": "stream",
     "text": [
      "uint8 RGB (1650, 1275, 3)\n"
     ]
    }
   ],
   "source": [
    "from PIL import Image\n",
    "import numpy as np\n",
    "\n",
    "image_path = \"/home/khushi/Desktop/CV_Printer_Identification/Testing_images/TESTING_CV.jpg\"\n",
    "image = Image.open(image_path)\n",
    "\n",
    "gray_array = np.array(image)\n",
    "\n",
    "bit_depth = gray_array.dtype\n",
    "image_mode = image.mode\n",
    "image_shape = gray_array.shape\n",
    "\n",
    "print(bit_depth, image_mode, image_shape)"
   ]
  },
  {
   "cell_type": "code",
   "execution_count": 14,
   "id": "37531f9b-ef07-4ab9-b160-f64f656a3c6d",
   "metadata": {},
   "outputs": [],
   "source": [
    "def save_image(array, name):\n",
    "    img = Image.fromarray(np.clip(array, 0, 255).astype(np.uint8))\n",
    "    img.save(name + \".jpg\")\n",
    "\n",
    "#Attack 1\n",
    "def attack_fixed_freq(image, A, f, Rp):\n",
    "    height, width = image.shape\n",
    "    s1 = (A/2) * (1 + np.cos(2 * np.pi * f * np.arange(height)/Rp))\n",
    "    s1 = s1[:, np.newaxis]\n",
    "    attacked = np.where(image == 0, image+s1, 255)\n",
    "    return attacked\n",
    "\n",
    "#Attack 2\n",
    "def attack_fixed_freq_binarized(image, A, f, Rp):\n",
    "    height, width = image.shape\n",
    "    s2 = (1/16) * (1 + np.cos(2 * np.pi * f * np.arange(height)/Rp))\n",
    "    s2 = s2[:, np.newaxis]\n",
    "    rand = np.random.rand(height, width)  # this is a random number for thresholding\n",
    "    attacked = np.where((image == 0) & (rand < s2), 255, image)\n",
    "    return attacked\n",
    "\n",
    "#Attack 3\n",
    "def attack_freq_hopping(image, A, Rp):\n",
    "    height, width = image.shape\n",
    "    phi = np.zeros(height)\n",
    "    f_values = []\n",
    "    alpha_values = []\n",
    "    \n",
    "    # Generate frequency segments\n",
    "    i = 0\n",
    "    while i < height:\n",
    "        # Randomly select frequency and duration\n",
    "        f = np.random.randint(30, 121)  # Frequency in [30,120]\n",
    "        alpha = np.random.randint(0, 101)  # Duration in [0,100] rows\n",
    "        alpha = max(1, alpha)  \n",
    "        \n",
    "        # Apply same frequency for alpha rows\n",
    "        segment_end = min(i + alpha, height)\n",
    "        for row in range(i, segment_end):\n",
    "            if row == 0:\n",
    "                phi[row] = 0      #phi(0) = 0 \n",
    "            else:\n",
    "                phi[row] = phi[row-1] + (2 * np.pi * f) / Rp\n",
    "        \n",
    "        i = segment_end\n",
    "    \n",
    "    s3 = (A / 2) * (1 + np.cos(phi))\n",
    "    s3 = s3[:, np.newaxis]  \n",
    "    attacked = np.where(image == 0, image + s3, 255)\n",
    "    return attacked\n",
    "\n",
    "#Attack 4\n",
    "def attack_freq_hopping_binarized(image, Rp, nu=4):\n",
    "    height, width = image.shape\n",
    "    phi = np.zeros(height)\n",
    "    f_values = []\n",
    "    alpha_values = []\n",
    "    \n",
    "    # Generate frequency segments (same as Attack 3)\n",
    "    i = 0\n",
    "    while i < height:\n",
    "        f = np.random.randint(30, 121)\n",
    "        alpha = np.random.randint(0, 101)\n",
    "        alpha = max(1, alpha)\n",
    "        \n",
    "        segment_end = min(i + alpha, height)\n",
    "        for row in range(i, segment_end):\n",
    "            if row == 0:\n",
    "                phi[row] = 0\n",
    "            else:\n",
    "                phi[row] = phi[row-1] + (2 * np.pi * f) / Rp\n",
    "        \n",
    "        i = segment_end\n",
    "    \n",
    "    s4 = (1 / (2**nu)) * (1 + np.cos(phi))\n",
    "    s4 = s4[:, np.newaxis]\n",
    "    rand = np.random.rand(height, width)\n",
    "    attacked = np.where((image == 0) & (rand < s4), 255, image)\n",
    "    return attacked\n",
    "\n",
    "#Attack 5\n",
    "def attack_gaussian_noise(image, sigma = 5):\n",
    "    height, width = image.shape\n",
    "    noise = np.random.normal(3 * sigma/2, sigma, size=(height, width))\n",
    "    attacked = np.where(image == 0, image+noise, image)\n",
    "    return attacked\n"
   ]
  },
  {
   "cell_type": "code",
   "execution_count": 15,
   "id": "dc251adc-c2f6-433d-a7de-2622a35bb890",
   "metadata": {},
   "outputs": [],
   "source": [
    "image_path = \"/home/khushi/Desktop/CV_Printer_Identification/Testing_images/TESTING_CV.jpg\"\n",
    "og_img = Image.open(image_path).convert(\"L\")\n",
    "gray = np.array(og_img)\n",
    "\n",
    "#setting the parameters\n",
    "A = 20\n",
    "f = 5\n",
    "Rp = 600   \n",
    "\"\"\" \n",
    "I have one doubt here Rp is a scaling factor that maintain the consistenncy between the digital attack and printing\n",
    "So should Rp will vary acc to teh printer for each case or it will be fixed accoridn to scanner as finally it is goign to be scanned at last\n",
    "\"\"\"\n",
    "\n",
    "att1 = attack_fixed_freq(gray, A, f, Rp)\n",
    "att2 = attack_fixed_freq_binarized(gray, A, f, Rp)\n",
    "att3 = attack_freq_hopping(gray, A, Rp)\n",
    "att4 = attack_freq_hopping_binarized(gray, Rp)\n",
    "att5 = attack_gaussian_noise(gray)\n",
    "\n",
    "save_image(att1, \"attack_fixed_freq\")\n",
    "save_image(att2, \"attack_fixed_freq_binarized\")\n",
    "save_image(att3, \"attack_freq_hopping\")\n",
    "save_image(att4, \"attack_freq_hopping_binarized\")\n",
    "save_image(att5, \"attack_gaussian_noise\")"
   ]
  },
  {
   "cell_type": "code",
   "execution_count": null,
   "id": "7263f798-2e1e-4ba3-ab90-79169d5240e9",
   "metadata": {},
   "outputs": [],
   "source": []
  }
 ],
 "metadata": {
  "kernelspec": {
   "display_name": "Python 3 (ipykernel)",
   "language": "python",
   "name": "python3"
  },
  "language_info": {
   "codemirror_mode": {
    "name": "ipython",
    "version": 3
   },
   "file_extension": ".py",
   "mimetype": "text/x-python",
   "name": "python",
   "nbconvert_exporter": "python",
   "pygments_lexer": "ipython3",
   "version": "3.9.20"
  }
 },
 "nbformat": 4,
 "nbformat_minor": 5
}
