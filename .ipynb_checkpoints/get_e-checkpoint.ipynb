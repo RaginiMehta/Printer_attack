{
 "cells": [
  {
   "cell_type": "code",
   "execution_count": 1,
   "id": "07b037df-4706-4356-b098-4a2d8ced945a",
   "metadata": {},
   "outputs": [],
   "source": [
    "# this scripts purpose is for the extraction of the e's from a given pdf and \n",
    "# being stored in a path provided\n",
    "\n",
    "# we have made a dir -> saved_e, this stores the e's of concern"
   ]
  },
  {
   "cell_type": "code",
   "execution_count": 23,
   "id": "00d195b0-80da-4dbd-9103-4211565c2947",
   "metadata": {},
   "outputs": [],
   "source": [
    "import cv2\n",
    "import pytesseract\n",
    "import numpy as np\n",
    "from PIL import Image, ImageDraw\n",
    "import os"
   ]
  },
  {
   "cell_type": "code",
   "execution_count": 132,
   "id": "ccdc4b4c-cd3f-4b2b-9565-15224806b95f",
   "metadata": {},
   "outputs": [
    {
     "name": "stdout",
     "output_type": "stream",
     "text": [
      "Saved 10 'e' characters in 'saved_e/' and annotated image as 'output_with_boxes.png'\n",
      "e_5.png: (14, 14, 3)\n",
      "e_10.png: (14, 14, 3)\n",
      "e_1.png: (14, 14, 3)\n",
      "e_3.png: (14, 14, 3)\n",
      "e_6.png: (14, 14, 3)\n",
      "e_9.png: (14, 14, 3)\n",
      "e_7.png: (14, 14, 3)\n",
      "e_2.png: (14, 14, 3)\n",
      "e_8.png: (14, 14, 3)\n",
      "e_4.png: (14, 14, 3)\n"
     ]
    }
   ],
   "source": [
    "# Load the image\n",
    "image_path = 'test_images/test_0.png'  # Replace with your image\n",
    "img1 = cv2.imread(image_path)\n",
    "img2 = cv2.cvtColor(img1, cv2.COLOR_BGR2GRAY)\n",
    "\n",
    "#upscalling images, solely to help tesseract, image extraction will be done from the og image\n",
    "# img = cv2.resize(img2, None, fx=2, fy=2, interpolation=cv2.INTER_CUBIC)\n",
    "img = cv2.resize(img2, (img1.shape[1], img1.shape[0]), interpolation=cv2.INTER_CUBIC)   # this is the processed image which \n",
    "                                                                                       # we put in the tesseract\n",
    "                                                                                       # coz it needs clearer pcitures to \n",
    "                                                                                       # accurately locate the e's\n",
    "# print(img.shape, img2.shape)\n",
    "\n",
    "# Get image height (Tesseract origin is bottom-left)\n",
    "h, w = img.shape\n",
    "\n",
    "op_dir = 'saved_e'\n",
    "os.makedirs(op_dir, exist_ok=True)\n",
    "\n",
    "# Draw setup\n",
    "# draw = ImageDraw.Draw(img)\n",
    "\n",
    "# Get character bounding boxes\n",
    "boxes = pytesseract.image_to_boxes(img)\n",
    "count = 0\n",
    "\n",
    "#set dimensions of the boxes \n",
    "crop = 14\n",
    "half = crop//2\n",
    "\n",
    "# Draw green dots on top of each 'e'\n",
    "for b in boxes.strip().splitlines():\n",
    "    b = b.split()\n",
    "    char, x1, y1, x2, y2 = b[0], int(b[1]), int(b[2]), int(b[3]), int(b[4])\n",
    "    \n",
    "    # Flip y-coordinates\n",
    "    y1_new = h - y1\n",
    "    y2_new = h - y2\n",
    "    # cx = (x1 + x2) // 2\n",
    "    # cy = (y1_new + y2_new) // 2\n",
    "\n",
    "    # make a bounding box around the e\n",
    "    cv2.rectangle(img, (x1, y2_new), (x2, y1_new), (255, 0, 0), 1)\n",
    "\n",
    "    if char.lower() == 'e' and count<10:\n",
    "\n",
    "        # compute center of bounding box    \n",
    "        cx = (x1 + x2) // 2\n",
    "        cy = (y1_new + y2_new) // 2\n",
    "    \n",
    "        # Get top-left and bottom-right coordinates of fixed crop\n",
    "        x_start = max(0, cx - half)\n",
    "        y_start = max(0, cy - half)\n",
    "        x_end = min(img2.shape[1], cx + half)\n",
    "        y_end = min(img2.shape[0], cy + half)\n",
    "\n",
    "        # crop image\n",
    "        cropped = img2[y_start:y_end, x_start:x_end]\n",
    "\n",
    "        # if dimensions okay, at image to output dir, \n",
    "        # later make sure that the image dirs are constant, else will cause computation error\n",
    "        if cropped.shape[0] > 0 and cropped.shape[1] > 0:\n",
    "            out_path = os.path.join(op_dir, f\"e_{count+1}.png\")\n",
    "            cv2.imwrite(out_path, cropped)\n",
    "            count += 1\n",
    "\n",
    "cv2.imwrite(\"output_with_boxes.png\", img)\n",
    "print(f\"Saved {count} 'e' characters in '{op_dir}/' and annotated image as 'output_with_boxes.png'\")\n",
    "\n",
    "# # to check the dimensions of the images\n",
    "# for filename in os.listdir(op_dir):\n",
    "#     full_path = os.path.join(op_dir, filename)\n",
    "#     img_saved = cv2.imread(full_path)\n",
    "    \n",
    "#     if img_saved is not None:\n",
    "#         print(f\"{filename}: {img_saved.shape}\")\n",
    "#     else:\n",
    "#         print(f\"Failed to read {filename}\")"
   ]
  },
  {
   "cell_type": "code",
   "execution_count": null,
   "id": "782da752-f939-4b88-80e4-9381597750ee",
   "metadata": {},
   "outputs": [],
   "source": []
  }
 ],
 "metadata": {
  "kernelspec": {
   "display_name": "Python 3 (ipykernel)",
   "language": "python",
   "name": "python3"
  },
  "language_info": {
   "codemirror_mode": {
    "name": "ipython",
    "version": 3
   },
   "file_extension": ".py",
   "mimetype": "text/x-python",
   "name": "python",
   "nbconvert_exporter": "python",
   "pygments_lexer": "ipython3",
   "version": "3.12.2"
  }
 },
 "nbformat": 4,
 "nbformat_minor": 5
}
