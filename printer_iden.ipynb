{
 "cells": [
  {
   "cell_type": "code",
   "execution_count": null,
   "id": "29d70496-6dd5-4bd5-bb9d-3cd88dd71b8c",
   "metadata": {},
   "outputs": [],
   "source": [
    "# Texture Based Attacks on Intrinsic Signature Based Printer Identification\n",
    "\n",
    "# What we need as datasets, is a 17 page document printed by 4 different printers:\n",
    "# 1. 1st page is the base paper printed\n",
    "# 2. next 16 pages are 16 different attacks on the pages\n",
    "\n",
    "# What we need the function to do is: \n",
    "# A. Generate the method to get only the e's of the picture\n",
    "# B. Be able to generate a feature vector which has:\n",
    "#     a. Varience/entropy\n",
    "#     b. GLCM Features\n",
    "#     c. DFT Features\n",
    "# C. Train SVM Classifier "
   ]
  },
  {
   "cell_type": "code",
   "execution_count": null,
   "id": "96930399-b684-454c-a3ed-e50ae98b2411",
   "metadata": {},
   "outputs": [],
   "source": []
  }
 ],
 "metadata": {
  "kernelspec": {
   "display_name": "Python 3 (ipykernel)",
   "language": "python",
   "name": "python3"
  },
  "language_info": {
   "codemirror_mode": {
    "name": "ipython",
    "version": 3
   },
   "file_extension": ".py",
   "mimetype": "text/x-python",
   "name": "python",
   "nbconvert_exporter": "python",
   "pygments_lexer": "ipython3",
   "version": "3.12.2"
  }
 },
 "nbformat": 4,
 "nbformat_minor": 5
}
